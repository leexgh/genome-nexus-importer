{
 "cells": [
  {
   "cell_type": "code",
   "execution_count": 215,
   "metadata": {},
   "outputs": [],
   "source": [
    "import pandas as pd\n",
    "import re\n",
    "import os"
   ]
  },
  {
   "cell_type": "code",
   "execution_count": 218,
   "metadata": {},
   "outputs": [],
   "source": [
    "with open(\"uniprot-reviewed_yes+AND+organism__Homo+sapiens+(Human)+[9606]_.gff\", \"r\") as f:\n",
    "    lines = f.readlines()\n",
    "# write a temp file\n",
    "with open(\"uniprot-all_temp.txt\", \"w\") as f:\n",
    "    for line in lines:\n",
    "        # delete lines start with '##', e.g.'##gff-version' and '##sequence-region'\n",
    "        if not line.startswith('##'):\n",
    "            # remove last \\t\n",
    "            line = line.rstrip() + '\\n'\n",
    "            f.write(line)"
   ]
  },
  {
   "cell_type": "code",
   "execution_count": 219,
   "metadata": {},
   "outputs": [],
   "source": [
    "df = pd.read_csv('uniprot-all_temp.txt', sep='\\t', header=None, names=['sequence', 'source', 'feature', 'start', 'end', 'score', 'strand', 'phase', 'attributes'])"
   ]
  },
  {
   "cell_type": "code",
   "execution_count": 220,
   "metadata": {},
   "outputs": [],
   "source": [
    "df = df[df['feature'] == 'Modified residue']\n"
   ]
  },
  {
   "cell_type": "code",
   "execution_count": 221,
   "metadata": {},
   "outputs": [],
   "source": [
    "df_output = pd.DataFrame(columns = [\"uniprot_entry\", \"uniprot_accession\", \"position\", \"type\", \"pubmed_ids\", \"sequence\"])"
   ]
  },
  {
   "cell_type": "code",
   "execution_count": 222,
   "metadata": {},
   "outputs": [],
   "source": [
    "# find type name by \"Note=...\"\n",
    "def get_type_value(attributes):\n",
    "    split_by_note = attributes.split('Note=')\n",
    "    if (len(split_by_note) >= 2):\n",
    "        return split_by_note[1].split(';')[0]\n",
    "    else:\n",
    "        return ''"
   ]
  },
  {
   "cell_type": "code",
   "execution_count": 223,
   "metadata": {},
   "outputs": [],
   "source": [
    "def get_pubmed_ids(attributes):\n",
    "    s = set()\n",
    "    # find number after PubMed:\n",
    "    match_pubmed = re.findall('PubMed:(\\d+)', attributes)\n",
    "    # find number after PMID:\n",
    "    match_pmid = re.findall('PMID:(\\d+)', attributes)\n",
    "    if match_pubmed:\n",
    "        s.update(match_pubmed)\n",
    "    if match_pmid:\n",
    "        s.update(match_pmid)\n",
    "    # concatenate ids with ';'\n",
    "    return ';'.join(str(e) for e in s)"
   ]
  },
  {
   "cell_type": "code",
   "execution_count": 224,
   "metadata": {},
   "outputs": [],
   "source": [
    "df_output['uniprot_accession'] = df['sequence']\n",
    "df_output['position'] = df.apply(lambda row: row['start'] if (row['start'] == row['end']) else str(row['start']) +';'+ str(row['end']), axis = 1) \n",
    "df_output['type'] = df.apply(lambda row: get_type_value(row['attributes']), axis = 1)\n",
    "df_output['pubmed_ids'] = df.apply(lambda row: get_pubmed_ids(row['attributes']), axis = 1)\n"
   ]
  },
  {
   "cell_type": "code",
   "execution_count": 225,
   "metadata": {},
   "outputs": [],
   "source": [
    "# no uniprot_entry in GFF\n",
    "df_output[\"uniprot_entry\"] = ''\n",
    "# no sequence in GFF\n",
    "df_output[\"sequence\"] = ''"
   ]
  },
  {
   "cell_type": "code",
   "execution_count": 229,
   "metadata": {},
   "outputs": [],
   "source": [
    "os.remove(\"uniprot-all_temp.txt\")\n",
    "df_output.to_csv('uniprot_output.txt', index=False, sep='\\t', header=False)"
   ]
  },
  {
   "cell_type": "code",
   "execution_count": null,
   "metadata": {},
   "outputs": [],
   "source": []
  }
 ],
 "metadata": {
  "kernelspec": {
   "display_name": "Python 3",
   "language": "python",
   "name": "python3"
  },
  "language_info": {
   "codemirror_mode": {
    "name": "ipython",
    "version": 3
   },
   "file_extension": ".py",
   "mimetype": "text/x-python",
   "name": "python",
   "nbconvert_exporter": "python",
   "pygments_lexer": "ipython3",
   "version": "3.7.4"
  }
 },
 "nbformat": 4,
 "nbformat_minor": 2
}
